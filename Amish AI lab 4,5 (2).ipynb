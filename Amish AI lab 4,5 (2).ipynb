{
  "metadata": {
    "kernelspec": {
      "name": "python",
      "display_name": "Python (Pyodide)",
      "language": "python"
    },
    "language_info": {
      "codemirror_mode": {
        "name": "python",
        "version": 3
      },
      "file_extension": ".py",
      "mimetype": "text/x-python",
      "name": "python",
      "nbconvert_exporter": "python",
      "pygments_lexer": "ipython3",
      "version": "3.8"
    }
  },
  "nbformat_minor": 4,
  "nbformat": 4,
  "cells": [
    {
      "cell_type": "markdown",
      "source": "AMISH BABAR B22F1253AI092",
      "metadata": {}
    },
    {
      "cell_type": "markdown",
      "source": "LAB 4 AND 5:        PROGRAMMING FOR AI:",
      "metadata": {}
    },
    {
      "cell_type": "code",
      "source": "# Task 1: Access List Items\n\n# Create a list of fruits\nfruitsss = [\"apple\", \"banana\", \"orange\", \"grape\", \"pineapple\"]\n\n# Print the first and last items of the list\nprint(\"First item of list:\", fruitsss[0])\nprint(\"Last item of list:\", fruitsss[-1])",
      "metadata": {
        "trusted": true
      },
      "outputs": [
        {
          "name": "stdout",
          "text": "First item of list: apple\nLast item of list: pineapple\n",
          "output_type": "stream"
        }
      ],
      "execution_count": 26
    },
    {
      "cell_type": "code",
      "source": "# Task 2: Change List Items\n\n# Create a list of colors\ncolorsss = [\"red\", \"green\", \"yellow\", \"purple\"]\n\n# Change the second item in the list to \"blue\"\ncolors[1] = \"blue\"\nprint(\"Updated Changed colors:\", colorsss)",
      "metadata": {
        "trusted": true
      },
      "outputs": [
        {
          "name": "stdout",
          "text": "Updated Changed colors: ['red', 'green', 'yellow', 'purple']\n",
          "output_type": "stream"
        }
      ],
      "execution_count": 16
    },
    {
      "cell_type": "code",
      "source": "# Task 3: Add List Items\n\n# Create a list of numbers\nnumbersss = [1, 3, 5, 7, 9]\n\n# Add the number 10 at the end of the list\nnumbersss.append(10)\nprint(\"Updated added numbers:\", numbersss)",
      "metadata": {
        "trusted": true
      },
      "outputs": [
        {
          "name": "stdout",
          "text": "Updated added numbers: [1, 3, 5, 7, 9, 10]\n",
          "output_type": "stream"
        }
      ],
      "execution_count": 17
    },
    {
      "cell_type": "code",
      "source": "# Task 4: Remove List Items\n\n# Create a list of animals\nanimalsssarr = [\"lion\", \"monkey\", \"cat\", \"zebra\"]\n\n# Remove the third item from the list\ndel animalsssarr[2]\nprint(\"Updated animals:\", animalsssarr)",
      "metadata": {
        "trusted": true
      },
      "outputs": [
        {
          "name": "stdout",
          "text": "Updated animals: ['lion', 'monkey', 'zebra']\n",
          "output_type": "stream"
        }
      ],
      "execution_count": 18
    },
    {
      "cell_type": "code",
      "source": "# Task 5: Loop Lists\n\n# Create a list of cities\ncitiesssarr = [\"Islamabad\", \"Haripur\", \"Mansehra\", \"Rawalpindi\"]\n\n# Loop through the list and print each city\nprint(\"Cities:\")\nfor city in citiesssarr:\n    print(city)",
      "metadata": {
        "trusted": true
      },
      "outputs": [
        {
          "name": "stdout",
          "text": "Cities:\nIslamabad\nHaripur\nMansehra\nRawalpindi\n",
          "output_type": "stream"
        }
      ],
      "execution_count": 19
    },
    {
      "cell_type": "code",
      "source": "# Task 6: List Comprehension\n\n# Create a list of numbers from 1 to 10\nnum = [i for i in range(1, 11)]\n\n# Use list comprehension to create a new list containing the square of each number\nsquared_num = [x ** 2 for x in num]\nprint(\"Squared numbers:\", squared_num)\n",
      "metadata": {
        "trusted": true
      },
      "outputs": [
        {
          "name": "stdout",
          "text": "Squared numbers: [1, 4, 9, 16, 25, 36, 49, 64, 81, 100]\n",
          "output_type": "stream"
        }
      ],
      "execution_count": 20
    },
    {
      "cell_type": "code",
      "source": "# Task 7: Sort Lists\n\n# Create a list of names\nnamesss = [\"Amish\", \"Azeem\", \"Boby\", \"Shokat\"]\n\n# Sort the list alphabetically\nnamesss.sort()\nprint(\"Sorted names:\", namesss)",
      "metadata": {
        "trusted": true
      },
      "outputs": [
        {
          "name": "stdout",
          "text": "Sorted names: ['Amish', 'Azeem', 'Boby', 'Shokat']\n",
          "output_type": "stream"
        }
      ],
      "execution_count": 21
    },
    {
      "cell_type": "code",
      "source": "# Task 8: Copy Lists\n\n# Create a list of fruits\nfruits = [\"kela\", \"amrood\", \"angoor\"]\n\n# Copy the list into a new list\nfruits_copy = fruits.copy()\nprint(\"Copied list:\", fruits_copy)\n",
      "metadata": {
        "trusted": true
      },
      "outputs": [
        {
          "name": "stdout",
          "text": "Copied list: ['apple', 'banana', 'orange']\n",
          "output_type": "stream"
        }
      ],
      "execution_count": 8
    },
    {
      "cell_type": "code",
      "source": "# Task 9: Join Lists\n\n# Create two lists of numbers\nlist111 = [1, 4, 7]\nlist222 = [8, 9, 10]\n\n# Join the two lists into a single list\ncombined_list = list111 + list222\nprint(\"Combined list are:\", combined_list)",
      "metadata": {
        "trusted": true
      },
      "outputs": [
        {
          "name": "stdout",
          "text": "Combined list are: [1, 4, 7, 8, 9, 10]\n",
          "output_type": "stream"
        }
      ],
      "execution_count": 22
    },
    {
      "cell_type": "code",
      "source": "# Task 10: List Methods\n\n# Create a list of fruits\nphal = [\"amrood\", \"kela\", \"angoor\"]\n\n# Use the append() method to add a new fruit to the list\nphal.append(\"saib\")\nprint(\"new phals:\", phal)\n\n# Use the pop() method to remove the last fruit from the list\nremoved_phal = phal.pop()\nprint(\"Removed phal:\", removed_phal)\nprint(\"Updated phals:\", phal)\n",
      "metadata": {
        "trusted": true
      },
      "outputs": [
        {
          "name": "stdout",
          "text": "new phals: ['amrood', 'kela', 'angoor', 'saib']\nRemoved phal: saib\nUpdated phals: ['amrood', 'kela', 'angoor']\n",
          "output_type": "stream"
        }
      ],
      "execution_count": 25
    },
    {
      "cell_type": "code",
      "source": "# Task 11: Combining Lists and List Comprehension\n\n# Create two lists\nlist1 = [1, 2, 3, 4, 5]\nlist2 = [6, 7, 8, 9, 10]\n\n# Use list comprehension to create a new list that contains the sum of corresponding elements from the two lists\nsum_list = [list1[i] + list2[i] for i in range(len(list1))]\nprint(\"Sum of corresponding elements:\", sum_list)",
      "metadata": {
        "trusted": true
      },
      "outputs": [
        {
          "name": "stdout",
          "text": "Sum of corresponding elements: [7, 9, 11, 13, 15]\n",
          "output_type": "stream"
        }
      ],
      "execution_count": 11
    },
    {
      "cell_type": "code",
      "source": "# Task 12: Filtering and Sorting\n# Create a list of numbers\nnumbers = [9, 2, 7, 4, 5, 8, 3, 6, 1]\n# Use list comprehension to create a new list containing only the even numbers from the original list\neven_numbers = [x for x in numbers if x % 2 == 0]\n# Sort the new list in descending order\neven_numbers.sort(reverse=True)\nprint(\"Even numbers (sorted in descending order):\", even_numbers)",
      "metadata": {
        "trusted": true
      },
      "outputs": [
        {
          "name": "stdout",
          "text": "Even numbers (sorted in descending order): [8, 6, 4, 2]\n",
          "output_type": "stream"
        }
      ],
      "execution_count": 12
    },
    {
      "cell_type": "code",
      "source": "# Task 13: List Slicing and Reversing\n# Create a list of numbers from 1 to 10\nnumbers = [i for i in range(1, 11)]\n# Use list slicing to create a new list containing only the even numbers from the original list, in reverse order\neven_numbers_reverse = numbers[::-2]\nprint(\"Even numbers in reverse order:\", even_numbers_reverse)\n",
      "metadata": {
        "trusted": true
      },
      "outputs": [
        {
          "name": "stdout",
          "text": "Even numbers in reverse order: [10, 8, 6, 4, 2]\n",
          "output_type": "stream"
        }
      ],
      "execution_count": 13
    },
    {
      "cell_type": "code",
      "source": "# Task 14: Combining Lists and List Methods\n\n# Create two lists\neven_numbers = [2, 4, 6, 8, 10]\nodd_numbers = [1, 3, 5, 7, 9]\n\n# Use list methods to combine the two lists into a single list, alternating between even and odd numbers\ncombined_list = [num for pair in zip(even_numbers, odd_numbers) for num in pair]\nprint(\"Combined list:\", combined_list)",
      "metadata": {
        "trusted": true
      },
      "outputs": [
        {
          "name": "stdout",
          "text": "Combined list: [2, 1, 4, 3, 6, 5, 8, 7, 10, 9]\n",
          "output_type": "stream"
        }
      ],
      "execution_count": 14
    },
    {
      "cell_type": "code",
      "source": "",
      "metadata": {
        "trusted": true
      },
      "outputs": [],
      "execution_count": null
    }
  ]
}